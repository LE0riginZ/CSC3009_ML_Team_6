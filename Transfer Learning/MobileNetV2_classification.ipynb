{
 "cells": [
  {
   "cell_type": "markdown",
   "metadata": {},
   "source": [
    "<h3>Import packages</h3>"
   ]
  },
  {
   "cell_type": "code",
   "execution_count": 49,
   "metadata": {},
   "outputs": [],
   "source": [
    "from datetime import date\n",
    "from timeit import default_timer as timer\n",
    "import numpy as np\n",
    "import tensorflow as tf\n",
    "from tensorflow import keras\n",
    "from tensorflow.keras import layers\n",
    "from tensorflow.keras.layers import Dense, Activation, Dropout\n",
    "from tensorflow.keras.optimizers import Adam\n",
    "from tensorflow.keras.metrics import categorical_crossentropy\n",
    "from tensorflow.keras.preprocessing.image import ImageDataGenerator, load_img\n",
    "# from keras.applications.resnet50 import preprocess_input\n",
    "from tensorflow.keras.preprocessing import image\n",
    "from tensorflow.keras.models import Model, Sequential\n",
    "from tensorflow.keras.applications import imagenet_utils\n",
    "from keras.callbacks import EarlyStopping\n",
    "from sklearn.metrics import confusion_matrix, classification_report\n",
    "import itertools\n",
    "import os\n",
    "import shutil\n",
    "import random\n",
    "import matplotlib.pyplot as plt\n",
    "%matplotlib inline"
   ]
  },
  {
   "cell_type": "code",
   "execution_count": 50,
   "metadata": {},
   "outputs": [
    {
     "name": "stdout",
     "output_type": "stream",
     "text": [
      "Num GPUs Available:  1\n"
     ]
    }
   ],
   "source": [
    "#Configure TensorFlow to use GPU for training\n",
    "tf.config.list_physical_devices('GPU') \n",
    "print(\"Num GPUs Available: \", len(tf.config.list_physical_devices('GPU')))\n",
    "\n",
    "gpus = tf.config.experimental.list_physical_devices('GPU')\n",
    "#Set GPU memory limit so my GPU doesn't crash\n",
    "if gpus:\n",
    "    try:\n",
    "        for gpu in gpus:\n",
    "              tf.config.experimental.set_memory_growth(gpu, True)\n",
    "    except RuntimeError as e:\n",
    "        print(e)"
   ]
  },
  {
   "cell_type": "markdown",
   "metadata": {},
   "source": [
    "<h3>Create class to record time taken to train the model</h3>"
   ]
  },
  {
   "cell_type": "code",
   "execution_count": 51,
   "metadata": {},
   "outputs": [],
   "source": [
    "#class to record time taken to train per epoch\n",
    "class TimingCallback(keras.callbacks.Callback):\n",
    "    def __init__(self, logs={}):\n",
    "        self.logs=[]\n",
    "    def on_epoch_begin(self, epoch, logs={}):\n",
    "        self.starttime = timer()\n",
    "    def on_epoch_end(self, epoch, logs={}):\n",
    "        self.logs.append(timer()-self.starttime)\n",
    "\n",
    "cb = TimingCallback()"
   ]
  },
  {
   "cell_type": "markdown",
   "metadata": {},
   "source": [
    "<h3>Create train and test folder</h3>"
   ]
  },
  {
   "cell_type": "code",
   "execution_count": 52,
   "metadata": {},
   "outputs": [
    {
     "name": "stdout",
     "output_type": "stream",
     "text": [
      "Unexpected exception formatting exception. Falling back to standard exception\n"
     ]
    },
    {
     "name": "stderr",
     "output_type": "stream",
     "text": [
      "Traceback (most recent call last):\n",
      "  File \"C:\\Users\\ngden\\AppData\\Roaming\\Python\\Python310\\site-packages\\IPython\\core\\interactiveshell.py\", line 3508, in run_code\n",
      "    exec(code_obj, self.user_global_ns, self.user_ns)\n",
      "  File \"C:\\Users\\ngden\\AppData\\Local\\Temp\\ipykernel_16876\\3267529728.py\", line 24, in <module>\n",
      "    shutil.copytree(source, destination)\n",
      "  File \"c:\\Users\\ngden\\anaconda3\\lib\\shutil.py\", line 557, in copytree\n",
      "    with os.scandir(src) as itr:\n",
      "FileNotFoundError: [WinError 3] The system cannot find the path specified: 'dataset_6/'\n",
      "\n",
      "During handling of the above exception, another exception occurred:\n",
      "\n",
      "Traceback (most recent call last):\n",
      "  File \"C:\\Users\\ngden\\AppData\\Roaming\\Python\\Python310\\site-packages\\IPython\\core\\interactiveshell.py\", line 2105, in showtraceback\n",
      "    stb = self.InteractiveTB.structured_traceback(\n",
      "  File \"C:\\Users\\ngden\\AppData\\Roaming\\Python\\Python310\\site-packages\\IPython\\core\\ultratb.py\", line 1428, in structured_traceback\n",
      "    return FormattedTB.structured_traceback(\n",
      "  File \"C:\\Users\\ngden\\AppData\\Roaming\\Python\\Python310\\site-packages\\IPython\\core\\ultratb.py\", line 1319, in structured_traceback\n",
      "    return VerboseTB.structured_traceback(\n",
      "  File \"C:\\Users\\ngden\\AppData\\Roaming\\Python\\Python310\\site-packages\\IPython\\core\\ultratb.py\", line 1172, in structured_traceback\n",
      "    formatted_exception = self.format_exception_as_a_whole(etype, evalue, etb, number_of_lines_of_context,\n",
      "  File \"C:\\Users\\ngden\\AppData\\Roaming\\Python\\Python310\\site-packages\\IPython\\core\\ultratb.py\", line 1087, in format_exception_as_a_whole\n",
      "    frames.append(self.format_record(record))\n",
      "  File \"C:\\Users\\ngden\\AppData\\Roaming\\Python\\Python310\\site-packages\\IPython\\core\\ultratb.py\", line 969, in format_record\n",
      "    frame_info.lines, Colors, self.has_colors, lvals\n",
      "  File \"C:\\Users\\ngden\\AppData\\Roaming\\Python\\Python310\\site-packages\\IPython\\core\\ultratb.py\", line 792, in lines\n",
      "    return self._sd.lines\n",
      "  File \"C:\\Users\\ngden\\AppData\\Roaming\\Python\\Python310\\site-packages\\stack_data\\utils.py\", line 144, in cached_property_wrapper\n",
      "    value = obj.__dict__[self.func.__name__] = self.func(obj)\n",
      "  File \"C:\\Users\\ngden\\AppData\\Roaming\\Python\\Python310\\site-packages\\stack_data\\core.py\", line 734, in lines\n",
      "    pieces = self.included_pieces\n",
      "  File \"C:\\Users\\ngden\\AppData\\Roaming\\Python\\Python310\\site-packages\\stack_data\\utils.py\", line 144, in cached_property_wrapper\n",
      "    value = obj.__dict__[self.func.__name__] = self.func(obj)\n",
      "  File \"C:\\Users\\ngden\\AppData\\Roaming\\Python\\Python310\\site-packages\\stack_data\\core.py\", line 677, in included_pieces\n",
      "    scope_pieces = self.scope_pieces\n",
      "  File \"C:\\Users\\ngden\\AppData\\Roaming\\Python\\Python310\\site-packages\\stack_data\\utils.py\", line 144, in cached_property_wrapper\n",
      "    value = obj.__dict__[self.func.__name__] = self.func(obj)\n",
      "  File \"C:\\Users\\ngden\\AppData\\Roaming\\Python\\Python310\\site-packages\\stack_data\\core.py\", line 614, in scope_pieces\n",
      "    scope_start, scope_end = self.source.line_range(self.scope)\n",
      "  File \"C:\\Users\\ngden\\AppData\\Roaming\\Python\\Python310\\site-packages\\stack_data\\core.py\", line 178, in line_range\n",
      "    return line_range(self.asttext(), node)\n",
      "AttributeError: 'Source' object has no attribute 'asttext'\n"
     ]
    }
   ],
   "source": [
    "#creates a folder each time the set of code is run to sort dataset into train and test\n",
    "day = date.today()\n",
    "formatDate = day.strftime(\"%b-%d-%Y\")\n",
    "\n",
    "#create folder with current date to group predictions ran in a day together, if it does not exists\n",
    "if os.path.isdir('Prediction (' + formatDate + ')') is False:\n",
    "    folder = os.mkdir('Prediction (' + formatDate + ')')\n",
    "folder = 'Prediction (' + formatDate + ')'\n",
    "\n",
    "#looping through to find if destination folder exists\n",
    "i = 1\n",
    "while True:\n",
    "    if os.path.isdir(folder + '/dataset_6 - ' + str(i)) is False:\n",
    "        break\n",
    "    i += 1\n",
    "\n",
    "#destination path for unsorted folder\n",
    "destination = folder + '/dataset_6 - ' + str(i)\n",
    "\n",
    "#source path for unsorted folder\n",
    "source = 'dataset_6/'\n",
    "\n",
    "#duplicate the unsorted folder from source to destination\n",
    "shutil.copytree(source, destination)\n",
    "\n",
    "os.mkdir(destination + '/train')\n",
    "os.mkdir(destination + '/test')"
   ]
  },
  {
   "cell_type": "markdown",
   "metadata": {},
   "source": [
    "<h3>Sort dataset into train and test folder</h3>"
   ]
  },
  {
   "cell_type": "code",
   "execution_count": 53,
   "metadata": {},
   "outputs": [
    {
     "name": "stdout",
     "output_type": "stream",
     "text": [
      "Unexpected exception formatting exception. Falling back to standard exception\n"
     ]
    },
    {
     "name": "stderr",
     "output_type": "stream",
     "text": [
      "Traceback (most recent call last):\n",
      "  File \"C:\\Users\\ngden\\AppData\\Roaming\\Python\\Python310\\site-packages\\IPython\\core\\interactiveshell.py\", line 3508, in run_code\n",
      "    exec(code_obj, self.user_global_ns, self.user_ns)\n",
      "  File \"C:\\Users\\ngden\\AppData\\Local\\Temp\\ipykernel_16876\\2139053688.py\", line 9, in <module>\n",
      "    dir = os.chdir(destination)\n",
      "FileNotFoundError: [WinError 2] The system cannot find the file specified: 'Prediction (Jul-15-2023)/dataset_6 - 1'\n",
      "\n",
      "During handling of the above exception, another exception occurred:\n",
      "\n",
      "Traceback (most recent call last):\n",
      "  File \"C:\\Users\\ngden\\AppData\\Roaming\\Python\\Python310\\site-packages\\IPython\\core\\interactiveshell.py\", line 2105, in showtraceback\n",
      "    stb = self.InteractiveTB.structured_traceback(\n",
      "  File \"C:\\Users\\ngden\\AppData\\Roaming\\Python\\Python310\\site-packages\\IPython\\core\\ultratb.py\", line 1428, in structured_traceback\n",
      "    return FormattedTB.structured_traceback(\n",
      "  File \"C:\\Users\\ngden\\AppData\\Roaming\\Python\\Python310\\site-packages\\IPython\\core\\ultratb.py\", line 1319, in structured_traceback\n",
      "    return VerboseTB.structured_traceback(\n",
      "  File \"C:\\Users\\ngden\\AppData\\Roaming\\Python\\Python310\\site-packages\\IPython\\core\\ultratb.py\", line 1172, in structured_traceback\n",
      "    formatted_exception = self.format_exception_as_a_whole(etype, evalue, etb, number_of_lines_of_context,\n",
      "  File \"C:\\Users\\ngden\\AppData\\Roaming\\Python\\Python310\\site-packages\\IPython\\core\\ultratb.py\", line 1087, in format_exception_as_a_whole\n",
      "    frames.append(self.format_record(record))\n",
      "  File \"C:\\Users\\ngden\\AppData\\Roaming\\Python\\Python310\\site-packages\\IPython\\core\\ultratb.py\", line 969, in format_record\n",
      "    frame_info.lines, Colors, self.has_colors, lvals\n",
      "  File \"C:\\Users\\ngden\\AppData\\Roaming\\Python\\Python310\\site-packages\\IPython\\core\\ultratb.py\", line 792, in lines\n",
      "    return self._sd.lines\n",
      "  File \"C:\\Users\\ngden\\AppData\\Roaming\\Python\\Python310\\site-packages\\stack_data\\utils.py\", line 144, in cached_property_wrapper\n",
      "    value = obj.__dict__[self.func.__name__] = self.func(obj)\n",
      "  File \"C:\\Users\\ngden\\AppData\\Roaming\\Python\\Python310\\site-packages\\stack_data\\core.py\", line 734, in lines\n",
      "    pieces = self.included_pieces\n",
      "  File \"C:\\Users\\ngden\\AppData\\Roaming\\Python\\Python310\\site-packages\\stack_data\\utils.py\", line 144, in cached_property_wrapper\n",
      "    value = obj.__dict__[self.func.__name__] = self.func(obj)\n",
      "  File \"C:\\Users\\ngden\\AppData\\Roaming\\Python\\Python310\\site-packages\\stack_data\\core.py\", line 677, in included_pieces\n",
      "    scope_pieces = self.scope_pieces\n",
      "  File \"C:\\Users\\ngden\\AppData\\Roaming\\Python\\Python310\\site-packages\\stack_data\\utils.py\", line 144, in cached_property_wrapper\n",
      "    value = obj.__dict__[self.func.__name__] = self.func(obj)\n",
      "  File \"C:\\Users\\ngden\\AppData\\Roaming\\Python\\Python310\\site-packages\\stack_data\\core.py\", line 614, in scope_pieces\n",
      "    scope_start, scope_end = self.source.line_range(self.scope)\n",
      "  File \"C:\\Users\\ngden\\AppData\\Roaming\\Python\\Python310\\site-packages\\stack_data\\core.py\", line 178, in line_range\n",
      "    return line_range(self.asttext(), node)\n",
      "AttributeError: 'Source' object has no attribute 'asttext'\n"
     ]
    }
   ],
   "source": [
    "#function to split images into training (80%) and testing (20%) and return both\n",
    "def split(data):\n",
    "    num = int(len(data) * 0.8)\n",
    "    # num = int(len(data) * 0.9) #90/10 split\n",
    "#     num = int(len(data) * 0.7) #70/30 split\n",
    "    random.shuffle(data)\n",
    "    return data[:num], data[num:]\n",
    "\n",
    "dir = os.chdir(destination)\n",
    "for category in os.listdir(dir):\n",
    "    #skip the iteration if folder is \"train\" or \"test\"\n",
    "    skip = ['train', 'test']\n",
    "    if category in skip:\n",
    "        continue\n",
    "    \n",
    "    shutil.move(f'{category}', 'train')\n",
    "    #create a subfolder with the same name in test\n",
    "    os.mkdir(f'test/{category}')\n",
    "\n",
    "    #get the images in each folder (battery type) for spltting of data into training and testing\n",
    "    img = os.listdir(f'train/{category}')\n",
    "    training, testing = split(img)\n",
    "    \n",
    "    for file in testing:\n",
    "        shutil.move(f'train/{category}/{file}', f'test/{category}')"
   ]
  },
  {
   "cell_type": "markdown",
   "metadata": {},
   "source": [
    "<h3>Transfer Learning</h3>"
   ]
  },
  {
   "cell_type": "code",
   "execution_count": 54,
   "metadata": {},
   "outputs": [],
   "source": [
    "#\"include_top=False argument\" will load a network that excluding the classification layers at the top\n",
    "mobile = tf.keras.applications.MobileNetV2(input_shape = (224, 224, 3), include_top = False, weights = \"imagenet\")"
   ]
  },
  {
   "cell_type": "code",
   "execution_count": 55,
   "metadata": {
    "scrolled": true
   },
   "outputs": [
    {
     "name": "stdout",
     "output_type": "stream",
     "text": [
      "Model: \"vgg16\"\n",
      "_________________________________________________________________\n",
      " Layer (type)                Output Shape              Param #   \n",
      "=================================================================\n",
      " input_7 (InputLayer)        [(None, 224, 224, 3)]     0         \n",
      "                                                                 \n",
      " block1_conv1 (Conv2D)       (None, 224, 224, 64)      1792      \n",
      "                                                                 \n",
      " block1_conv2 (Conv2D)       (None, 224, 224, 64)      36928     \n",
      "                                                                 \n",
      " block1_pool (MaxPooling2D)  (None, 112, 112, 64)      0         \n",
      "                                                                 \n",
      " block2_conv1 (Conv2D)       (None, 112, 112, 128)     73856     \n",
      "                                                                 \n",
      " block2_conv2 (Conv2D)       (None, 112, 112, 128)     147584    \n",
      "                                                                 \n",
      " block2_pool (MaxPooling2D)  (None, 56, 56, 128)       0         \n",
      "                                                                 \n",
      " block3_conv1 (Conv2D)       (None, 56, 56, 256)       295168    \n",
      "                                                                 \n",
      " block3_conv2 (Conv2D)       (None, 56, 56, 256)       590080    \n",
      "                                                                 \n",
      " block3_conv3 (Conv2D)       (None, 56, 56, 256)       590080    \n",
      "                                                                 \n",
      " block3_pool (MaxPooling2D)  (None, 28, 28, 256)       0         \n",
      "                                                                 \n",
      " block4_conv1 (Conv2D)       (None, 28, 28, 512)       1180160   \n",
      "                                                                 \n",
      " block4_conv2 (Conv2D)       (None, 28, 28, 512)       2359808   \n",
      "                                                                 \n",
      " block4_conv3 (Conv2D)       (None, 28, 28, 512)       2359808   \n",
      "                                                                 \n",
      " block4_pool (MaxPooling2D)  (None, 14, 14, 512)       0         \n",
      "                                                                 \n",
      " block5_conv1 (Conv2D)       (None, 14, 14, 512)       2359808   \n",
      "                                                                 \n",
      " block5_conv2 (Conv2D)       (None, 14, 14, 512)       2359808   \n",
      "                                                                 \n",
      " block5_conv3 (Conv2D)       (None, 14, 14, 512)       2359808   \n",
      "                                                                 \n",
      " block5_pool (MaxPooling2D)  (None, 7, 7, 512)         0         \n",
      "                                                                 \n",
      "=================================================================\n",
      "Total params: 14,714,688\n",
      "Trainable params: 14,714,688\n",
      "Non-trainable params: 0\n",
      "_________________________________________________________________\n"
     ]
    }
   ],
   "source": [
    "mobile.summary()"
   ]
  },
  {
   "cell_type": "code",
   "execution_count": 56,
   "metadata": {
    "scrolled": true
   },
   "outputs": [
    {
     "name": "stdout",
     "output_type": "stream",
     "text": [
      "Model: \"model_3\"\n",
      "_________________________________________________________________\n",
      " Layer (type)                Output Shape              Param #   \n",
      "=================================================================\n",
      " input_8 (InputLayer)        [(None, 224, 224, 3)]     0         \n",
      "                                                                 \n",
      " vgg16 (Functional)          (None, 7, 7, 512)         14714688  \n",
      "                                                                 \n",
      " global_average_pooling2d_3   (None, 512)              0         \n",
      " (GlobalAveragePooling2D)                                        \n",
      "                                                                 \n",
      " dropout_3 (Dropout)         (None, 512)               0         \n",
      "                                                                 \n",
      " dense_3 (Dense)             (None, 1)                 513       \n",
      "                                                                 \n",
      "=================================================================\n",
      "Total params: 14,715,201\n",
      "Trainable params: 2,360,321\n",
      "Non-trainable params: 12,354,880\n",
      "_________________________________________________________________\n"
     ]
    }
   ],
   "source": [
    "for layer in mobile.layers[:-2]:\n",
    "    layer.trainable = False\n",
    "\n",
    "inputs = keras.Input(shape=(224, 224, 3))\n",
    "x = mobile(inputs, training=False)\n",
    "x = tf.keras.layers.GlobalAveragePooling2D()(x)\n",
    "x = tf.keras.layers.Dropout(0.5)(x)\n",
    "output = tf.keras.layers.Dense(1, activation=\"sigmoid\")(x)  \n",
    "\n",
    "model = keras.Model(inputs, output)\n",
    "\n",
    "model.summary()"
   ]
  },
  {
   "cell_type": "markdown",
   "metadata": {},
   "source": [
    "<h3>Process data</h3>"
   ]
  },
  {
   "cell_type": "code",
   "execution_count": 57,
   "metadata": {},
   "outputs": [
    {
     "name": "stdout",
     "output_type": "stream",
     "text": [
      "Found 276 images belonging to 2 classes.\n",
      "Found 68 images belonging to 2 classes.\n",
      "Found 86 images belonging to 2 classes.\n"
     ]
    }
   ],
   "source": [
    "train_path = 'train'\n",
    "test_path = 'test'\n",
    "\n",
    "#for data augmentation on training data\n",
    "datagen = ImageDataGenerator( \n",
    "    preprocessing_function =tf.keras.applications.resnet50.preprocess_input,\n",
    "    validation_split=0.2,\n",
    "    # validation_split=0.1, #changes made for 90/10 split\n",
    "    rotation_range = 10,  # randomly rotate images in the range (degrees, 0 to 180)\n",
    "    zoom_range = 0.2, # Randomly zoom image \n",
    "    width_shift_range = 0.1,  # randomly shift images horizontally (fraction of total width)\n",
    "    height_shift_range = 0.1,  # randomly shift images vertically (fraction of total height)\n",
    "    horizontal_flip = True,  # randomly flip images\n",
    "#     vertical_flip = False,    # randomly flip images\n",
    "    vertical_flip = True, #include vertical flip for better generalisation\n",
    "    )  \n",
    "\n",
    "#takes images from directory path and generates batches of augmented data\n",
    "train = datagen.flow_from_directory(\n",
    "    directory=train_path,\n",
    "    target_size=(224, 224),\n",
    "    class_mode = 'binary',\n",
    "    batch_size=32,\n",
    "    subset='training',\n",
    "        shuffle = False)\n",
    "\n",
    "#for validation data\n",
    "validation_batches = ImageDataGenerator(preprocessing_function=tf.keras.applications.resnet50.preprocess_input, \n",
    "                                        validation_split=0.2)\n",
    "# validation_batches = ImageDataGenerator(preprocessing_function=tf.keras.applications.mobilenet.preprocess_input, \n",
    "#                                         validation_split=0.1) #changes made for 90/10 split\n",
    "\n",
    "\n",
    "validation = validation_batches.flow_from_directory(\n",
    "    directory=train_path,\n",
    "    target_size=(224, 224),\n",
    "    class_mode = 'binary',\n",
    "    batch_size=32,\n",
    "    subset='validation',\n",
    "        shuffle = False)\n",
    "\n",
    "#for test data\n",
    "test = ImageDataGenerator(preprocessing_function=tf.keras.applications.resnet50.preprocess_input)\\\n",
    ".flow_from_directory(directory=test_path, target_size=(224,224), class_mode = 'binary', batch_size=32, shuffle=False)"
   ]
  },
  {
   "cell_type": "markdown",
   "metadata": {},
   "source": [
    "<h3>Train model</h3>"
   ]
  },
  {
   "cell_type": "code",
   "execution_count": 58,
   "metadata": {
    "scrolled": true
   },
   "outputs": [
    {
     "name": "stdout",
     "output_type": "stream",
     "text": [
      "Epoch 1/150\n",
      "9/9 - 14s - loss: 11.8437 - binary_accuracy: 0.5254 - val_loss: 2.2145 - val_binary_accuracy: 0.5294 - 14s/epoch - 2s/step\n",
      "Epoch 2/150\n",
      "9/9 - 3s - loss: 1.8586 - binary_accuracy: 0.5109 - val_loss: 0.6782 - val_binary_accuracy: 0.6765 - 3s/epoch - 382ms/step\n",
      "Epoch 3/150\n",
      "9/9 - 3s - loss: 0.6251 - binary_accuracy: 0.6957 - val_loss: 0.5783 - val_binary_accuracy: 0.6765 - 3s/epoch - 353ms/step\n",
      "Epoch 4/150\n",
      "9/9 - 4s - loss: 0.5175 - binary_accuracy: 0.7500 - val_loss: 0.5251 - val_binary_accuracy: 0.7353 - 4s/epoch - 390ms/step\n",
      "Epoch 5/150\n",
      "9/9 - 3s - loss: 0.4748 - binary_accuracy: 0.7899 - val_loss: 0.5043 - val_binary_accuracy: 0.7500 - 3s/epoch - 381ms/step\n",
      "Epoch 6/150\n",
      "9/9 - 3s - loss: 0.4529 - binary_accuracy: 0.8116 - val_loss: 0.4807 - val_binary_accuracy: 0.7647 - 3s/epoch - 386ms/step\n",
      "Epoch 7/150\n",
      "9/9 - 3s - loss: 0.4362 - binary_accuracy: 0.8116 - val_loss: 0.5078 - val_binary_accuracy: 0.7941 - 3s/epoch - 375ms/step\n",
      "Epoch 8/150\n",
      "9/9 - 3s - loss: 0.4546 - binary_accuracy: 0.8116 - val_loss: 0.4556 - val_binary_accuracy: 0.8382 - 3s/epoch - 372ms/step\n",
      "Epoch 9/150\n",
      "9/9 - 3s - loss: 0.3884 - binary_accuracy: 0.8225 - val_loss: 0.4555 - val_binary_accuracy: 0.7500 - 3s/epoch - 342ms/step\n",
      "Epoch 10/150\n",
      "9/9 - 3s - loss: 0.3177 - binary_accuracy: 0.8768 - val_loss: 0.5106 - val_binary_accuracy: 0.7941 - 3s/epoch - 343ms/step\n",
      "Epoch 11/150\n",
      "9/9 - 3s - loss: 0.4013 - binary_accuracy: 0.8514 - val_loss: 0.4330 - val_binary_accuracy: 0.8676 - 3s/epoch - 361ms/step\n",
      "Epoch 12/150\n",
      "9/9 - 3s - loss: 0.4053 - binary_accuracy: 0.8225 - val_loss: 0.4491 - val_binary_accuracy: 0.8088 - 3s/epoch - 344ms/step\n",
      "Epoch 13/150\n",
      "9/9 - 3s - loss: 0.4092 - binary_accuracy: 0.8007 - val_loss: 0.3243 - val_binary_accuracy: 0.9118 - 3s/epoch - 370ms/step\n",
      "Epoch 14/150\n",
      "9/9 - 3s - loss: 0.2705 - binary_accuracy: 0.8949 - val_loss: 0.4063 - val_binary_accuracy: 0.8382 - 3s/epoch - 345ms/step\n",
      "Epoch 15/150\n",
      "9/9 - 3s - loss: 0.3735 - binary_accuracy: 0.8297 - val_loss: 0.3346 - val_binary_accuracy: 0.8676 - 3s/epoch - 343ms/step\n",
      "Epoch 16/150\n",
      "9/9 - 3s - loss: 0.3313 - binary_accuracy: 0.8623 - val_loss: 0.3230 - val_binary_accuracy: 0.8824 - 3s/epoch - 346ms/step\n",
      "Epoch 17/150\n",
      "9/9 - 3s - loss: 0.2993 - binary_accuracy: 0.8877 - val_loss: 0.3366 - val_binary_accuracy: 0.8824 - 3s/epoch - 358ms/step\n",
      "Epoch 18/150\n",
      "9/9 - 3s - loss: 0.2890 - binary_accuracy: 0.8696 - val_loss: 0.3277 - val_binary_accuracy: 0.8824 - 3s/epoch - 341ms/step\n",
      "Epoch 19/150\n",
      "9/9 - 3s - loss: 0.2890 - binary_accuracy: 0.8696 - val_loss: 0.2608 - val_binary_accuracy: 0.8971 - 3s/epoch - 341ms/step\n",
      "Epoch 20/150\n",
      "9/9 - 3s - loss: 0.3085 - binary_accuracy: 0.8623 - val_loss: 0.3158 - val_binary_accuracy: 0.9118 - 3s/epoch - 330ms/step\n",
      "Epoch 21/150\n",
      "9/9 - 3s - loss: 0.3310 - binary_accuracy: 0.8696 - val_loss: 0.4327 - val_binary_accuracy: 0.8235 - 3s/epoch - 328ms/step\n",
      "Epoch 22/150\n",
      "9/9 - 3s - loss: 0.3309 - binary_accuracy: 0.8551 - val_loss: 0.2954 - val_binary_accuracy: 0.8676 - 3s/epoch - 330ms/step\n",
      "Epoch 23/150\n",
      "9/9 - 3s - loss: 0.2984 - binary_accuracy: 0.8986 - val_loss: 0.3286 - val_binary_accuracy: 0.8824 - 3s/epoch - 329ms/step\n",
      "Epoch 24/150\n",
      "9/9 - 3s - loss: 0.3119 - binary_accuracy: 0.8370 - val_loss: 0.2700 - val_binary_accuracy: 0.8824 - 3s/epoch - 335ms/step\n",
      "Epoch 25/150\n",
      "9/9 - 3s - loss: 0.2372 - binary_accuracy: 0.8949 - val_loss: 0.3657 - val_binary_accuracy: 0.8676 - 3s/epoch - 333ms/step\n",
      "Epoch 26/150\n",
      "9/9 - 3s - loss: 0.2648 - binary_accuracy: 0.8986 - val_loss: 0.2443 - val_binary_accuracy: 0.8824 - 3s/epoch - 362ms/step\n",
      "Epoch 27/150\n",
      "9/9 - 3s - loss: 0.2121 - binary_accuracy: 0.9203 - val_loss: 0.3570 - val_binary_accuracy: 0.8824 - 3s/epoch - 344ms/step\n",
      "Epoch 28/150\n",
      "9/9 - 3s - loss: 0.2862 - binary_accuracy: 0.8659 - val_loss: 0.2518 - val_binary_accuracy: 0.8824 - 3s/epoch - 340ms/step\n",
      "Epoch 29/150\n",
      "9/9 - 3s - loss: 0.4037 - binary_accuracy: 0.8188 - val_loss: 0.3477 - val_binary_accuracy: 0.8676 - 3s/epoch - 338ms/step\n",
      "Epoch 30/150\n",
      "9/9 - 4s - loss: 0.2312 - binary_accuracy: 0.9058 - val_loss: 0.2706 - val_binary_accuracy: 0.9265 - 4s/epoch - 411ms/step\n",
      "Epoch 31/150\n",
      "9/9 - 3s - loss: 0.2372 - binary_accuracy: 0.8949 - val_loss: 0.3257 - val_binary_accuracy: 0.8824 - 3s/epoch - 353ms/step\n",
      "Epoch 32/150\n",
      "9/9 - 3s - loss: 0.2471 - binary_accuracy: 0.9058 - val_loss: 0.2923 - val_binary_accuracy: 0.8824 - 3s/epoch - 351ms/step\n",
      "Epoch 33/150\n",
      "9/9 - 3s - loss: 0.2476 - binary_accuracy: 0.9130 - val_loss: 0.2718 - val_binary_accuracy: 0.8824 - 3s/epoch - 344ms/step\n",
      "Epoch 34/150\n",
      "9/9 - 3s - loss: 0.2122 - binary_accuracy: 0.9094 - val_loss: 0.2062 - val_binary_accuracy: 0.9265 - 3s/epoch - 350ms/step\n",
      "Epoch 35/150\n",
      "9/9 - 3s - loss: 0.2983 - binary_accuracy: 0.8696 - val_loss: 0.3095 - val_binary_accuracy: 0.8824 - 3s/epoch - 343ms/step\n",
      "Epoch 36/150\n",
      "9/9 - 3s - loss: 0.2151 - binary_accuracy: 0.8986 - val_loss: 0.2300 - val_binary_accuracy: 0.9118 - 3s/epoch - 331ms/step\n",
      "Epoch 37/150\n",
      "9/9 - 3s - loss: 0.2295 - binary_accuracy: 0.9167 - val_loss: 0.3558 - val_binary_accuracy: 0.8824 - 3s/epoch - 328ms/step\n",
      "Epoch 38/150\n",
      "9/9 - 3s - loss: 0.1927 - binary_accuracy: 0.9239 - val_loss: 0.2632 - val_binary_accuracy: 0.8824 - 3s/epoch - 331ms/step\n",
      "Epoch 39/150\n",
      "9/9 - 3s - loss: 0.1912 - binary_accuracy: 0.9203 - val_loss: 0.2923 - val_binary_accuracy: 0.8971 - 3s/epoch - 330ms/step\n",
      "Epoch 40/150\n",
      "9/9 - 3s - loss: 0.1974 - binary_accuracy: 0.9058 - val_loss: 0.2413 - val_binary_accuracy: 0.9265 - 3s/epoch - 333ms/step\n",
      "Epoch 41/150\n",
      "9/9 - 3s - loss: 0.1851 - binary_accuracy: 0.9275 - val_loss: 0.2326 - val_binary_accuracy: 0.9265 - 3s/epoch - 338ms/step\n",
      "Epoch 42/150\n",
      "9/9 - 3s - loss: 0.1753 - binary_accuracy: 0.9457 - val_loss: 0.2596 - val_binary_accuracy: 0.9265 - 3s/epoch - 332ms/step\n",
      "Epoch 43/150\n",
      "9/9 - 3s - loss: 0.1410 - binary_accuracy: 0.9457 - val_loss: 0.2105 - val_binary_accuracy: 0.9118 - 3s/epoch - 333ms/step\n",
      "Epoch 44/150\n",
      "9/9 - 3s - loss: 0.2815 - binary_accuracy: 0.8877 - val_loss: 0.1902 - val_binary_accuracy: 0.9265 - 3s/epoch - 342ms/step\n",
      "Epoch 45/150\n",
      "9/9 - 3s - loss: 0.1908 - binary_accuracy: 0.9203 - val_loss: 0.2229 - val_binary_accuracy: 0.9265 - 3s/epoch - 342ms/step\n",
      "Epoch 46/150\n",
      "9/9 - 3s - loss: 0.1625 - binary_accuracy: 0.9312 - val_loss: 0.2170 - val_binary_accuracy: 0.9265 - 3s/epoch - 340ms/step\n",
      "Epoch 47/150\n",
      "9/9 - 3s - loss: 0.1306 - binary_accuracy: 0.9529 - val_loss: 0.3196 - val_binary_accuracy: 0.8824 - 3s/epoch - 335ms/step\n",
      "Epoch 48/150\n",
      "9/9 - 3s - loss: 0.1637 - binary_accuracy: 0.9348 - val_loss: 0.2538 - val_binary_accuracy: 0.9118 - 3s/epoch - 342ms/step\n",
      "Epoch 49/150\n",
      "9/9 - 3s - loss: 0.1697 - binary_accuracy: 0.9348 - val_loss: 0.2430 - val_binary_accuracy: 0.9118 - 3s/epoch - 335ms/step\n",
      "Epoch 50/150\n",
      "9/9 - 3s - loss: 0.1272 - binary_accuracy: 0.9493 - val_loss: 0.2216 - val_binary_accuracy: 0.8971 - 3s/epoch - 334ms/step\n",
      "Epoch 51/150\n",
      "9/9 - 3s - loss: 0.1516 - binary_accuracy: 0.9384 - val_loss: 0.2706 - val_binary_accuracy: 0.8971 - 3s/epoch - 348ms/step\n",
      "Epoch 52/150\n",
      "9/9 - 3s - loss: 0.2598 - binary_accuracy: 0.9094 - val_loss: 0.2018 - val_binary_accuracy: 0.8824 - 3s/epoch - 343ms/step\n",
      "Epoch 53/150\n",
      "9/9 - 3s - loss: 0.1402 - binary_accuracy: 0.9457 - val_loss: 0.3744 - val_binary_accuracy: 0.8824 - 3s/epoch - 350ms/step\n",
      "Epoch 54/150\n",
      "9/9 - 3s - loss: 0.1315 - binary_accuracy: 0.9529 - val_loss: 0.2659 - val_binary_accuracy: 0.9118 - 3s/epoch - 354ms/step\n",
      "Epoch 55/150\n",
      "9/9 - 3s - loss: 0.1119 - binary_accuracy: 0.9601 - val_loss: 0.2271 - val_binary_accuracy: 0.9118 - 3s/epoch - 343ms/step\n",
      "Epoch 56/150\n",
      "9/9 - 3s - loss: 0.1449 - binary_accuracy: 0.9457 - val_loss: 0.2559 - val_binary_accuracy: 0.9265 - 3s/epoch - 335ms/step\n",
      "Epoch 57/150\n",
      "9/9 - 3s - loss: 0.1503 - binary_accuracy: 0.9239 - val_loss: 0.2402 - val_binary_accuracy: 0.8971 - 3s/epoch - 337ms/step\n",
      "Epoch 58/150\n",
      "9/9 - 3s - loss: 0.1212 - binary_accuracy: 0.9493 - val_loss: 0.4100 - val_binary_accuracy: 0.8676 - 3s/epoch - 353ms/step\n",
      "Epoch 59/150\n",
      "9/9 - 3s - loss: 0.2535 - binary_accuracy: 0.8841 - val_loss: 0.2175 - val_binary_accuracy: 0.9118 - 3s/epoch - 346ms/step\n",
      "Epoch 60/150\n",
      "9/9 - 3s - loss: 0.2317 - binary_accuracy: 0.9022 - val_loss: 0.2015 - val_binary_accuracy: 0.9412 - 3s/epoch - 377ms/step\n",
      "Epoch 61/150\n",
      "9/9 - 3s - loss: 0.1057 - binary_accuracy: 0.9674 - val_loss: 0.1955 - val_binary_accuracy: 0.9118 - 3s/epoch - 350ms/step\n",
      "Epoch 62/150\n",
      "9/9 - 3s - loss: 0.1301 - binary_accuracy: 0.9384 - val_loss: 0.2488 - val_binary_accuracy: 0.9118 - 3s/epoch - 344ms/step\n",
      "Epoch 63/150\n",
      "9/9 - 3s - loss: 0.1461 - binary_accuracy: 0.9565 - val_loss: 0.2322 - val_binary_accuracy: 0.9265 - 3s/epoch - 348ms/step\n",
      "Epoch 64/150\n",
      "9/9 - 3s - loss: 0.2488 - binary_accuracy: 0.9094 - val_loss: 0.1994 - val_binary_accuracy: 0.9118 - 3s/epoch - 343ms/step\n",
      "Epoch 65/150\n",
      "9/9 - 3s - loss: 0.1675 - binary_accuracy: 0.9348 - val_loss: 0.2673 - val_binary_accuracy: 0.8971 - 3s/epoch - 341ms/step\n",
      "Epoch 66/150\n",
      "9/9 - 3s - loss: 0.1046 - binary_accuracy: 0.9710 - val_loss: 0.2849 - val_binary_accuracy: 0.8971 - 3s/epoch - 340ms/step\n",
      "Epoch 67/150\n",
      "9/9 - 3s - loss: 0.1174 - binary_accuracy: 0.9674 - val_loss: 0.2371 - val_binary_accuracy: 0.9265 - 3s/epoch - 336ms/step\n",
      "Epoch 68/150\n",
      "9/9 - 3s - loss: 0.1042 - binary_accuracy: 0.9746 - val_loss: 0.2589 - val_binary_accuracy: 0.9118 - 3s/epoch - 340ms/step\n",
      "Epoch 69/150\n",
      "9/9 - 3s - loss: 0.1136 - binary_accuracy: 0.9565 - val_loss: 0.2604 - val_binary_accuracy: 0.9118 - 3s/epoch - 338ms/step\n",
      "Epoch 70/150\n",
      "9/9 - 3s - loss: 0.1743 - binary_accuracy: 0.9203 - val_loss: 0.2776 - val_binary_accuracy: 0.9118 - 3s/epoch - 342ms/step\n",
      "Epoch 71/150\n",
      "9/9 - 3s - loss: 0.1140 - binary_accuracy: 0.9420 - val_loss: 0.2180 - val_binary_accuracy: 0.9265 - 3s/epoch - 336ms/step\n",
      "Epoch 72/150\n",
      "9/9 - 3s - loss: 0.1300 - binary_accuracy: 0.9420 - val_loss: 0.3194 - val_binary_accuracy: 0.8971 - 3s/epoch - 340ms/step\n",
      "Epoch 73/150\n",
      "9/9 - 3s - loss: 0.1147 - binary_accuracy: 0.9529 - val_loss: 0.3088 - val_binary_accuracy: 0.8971 - 3s/epoch - 341ms/step\n",
      "Epoch 74/150\n",
      "9/9 - 3s - loss: 0.0869 - binary_accuracy: 0.9674 - val_loss: 0.2613 - val_binary_accuracy: 0.9118 - 3s/epoch - 340ms/step\n",
      "Epoch 75/150\n",
      "9/9 - 3s - loss: 0.1111 - binary_accuracy: 0.9565 - val_loss: 0.2101 - val_binary_accuracy: 0.9265 - 3s/epoch - 340ms/step\n",
      "Epoch 76/150\n",
      "9/9 - 3s - loss: 0.1171 - binary_accuracy: 0.9601 - val_loss: 0.2622 - val_binary_accuracy: 0.8971 - 3s/epoch - 339ms/step\n",
      "Epoch 77/150\n",
      "9/9 - 3s - loss: 0.1213 - binary_accuracy: 0.9457 - val_loss: 0.2325 - val_binary_accuracy: 0.9118 - 3s/epoch - 336ms/step\n",
      "Epoch 78/150\n",
      "9/9 - 3s - loss: 0.0855 - binary_accuracy: 0.9710 - val_loss: 0.2159 - val_binary_accuracy: 0.9265 - 3s/epoch - 342ms/step\n",
      "Epoch 79/150\n",
      "9/9 - 3s - loss: 0.1021 - binary_accuracy: 0.9674 - val_loss: 0.3108 - val_binary_accuracy: 0.8971 - 3s/epoch - 338ms/step\n",
      "Epoch 80/150\n",
      "9/9 - 3s - loss: 0.0673 - binary_accuracy: 0.9674 - val_loss: 0.2020 - val_binary_accuracy: 0.9118 - 3s/epoch - 338ms/step\n",
      "Epoch 81/150\n",
      "9/9 - 3s - loss: 0.1303 - binary_accuracy: 0.9565 - val_loss: 0.1667 - val_binary_accuracy: 0.9265 - 3s/epoch - 334ms/step\n",
      "Epoch 82/150\n",
      "9/9 - 3s - loss: 0.0749 - binary_accuracy: 0.9783 - val_loss: 0.1642 - val_binary_accuracy: 0.9118 - 3s/epoch - 337ms/step\n",
      "Epoch 83/150\n",
      "9/9 - 3s - loss: 0.0683 - binary_accuracy: 0.9674 - val_loss: 0.2721 - val_binary_accuracy: 0.8971 - 3s/epoch - 343ms/step\n",
      "Epoch 84/150\n",
      "9/9 - 3s - loss: 0.0988 - binary_accuracy: 0.9710 - val_loss: 0.2192 - val_binary_accuracy: 0.9118 - 3s/epoch - 338ms/step\n",
      "Epoch 85/150\n",
      "9/9 - 3s - loss: 0.0841 - binary_accuracy: 0.9710 - val_loss: 0.1909 - val_binary_accuracy: 0.9265 - 3s/epoch - 352ms/step\n",
      "Epoch 86/150\n",
      "9/9 - 3s - loss: 0.1358 - binary_accuracy: 0.9529 - val_loss: 0.2480 - val_binary_accuracy: 0.8971 - 3s/epoch - 334ms/step\n",
      "Epoch 87/150\n",
      "9/9 - 3s - loss: 0.0845 - binary_accuracy: 0.9783 - val_loss: 0.1860 - val_binary_accuracy: 0.9559 - 3s/epoch - 359ms/step\n",
      "Epoch 88/150\n",
      "9/9 - 3s - loss: 0.0900 - binary_accuracy: 0.9710 - val_loss: 0.2925 - val_binary_accuracy: 0.8971 - 3s/epoch - 336ms/step\n",
      "Epoch 89/150\n",
      "9/9 - 3s - loss: 0.0912 - binary_accuracy: 0.9710 - val_loss: 0.1723 - val_binary_accuracy: 0.9559 - 3s/epoch - 332ms/step\n",
      "Epoch 90/150\n",
      "9/9 - 3s - loss: 0.0662 - binary_accuracy: 0.9783 - val_loss: 0.1372 - val_binary_accuracy: 0.9265 - 3s/epoch - 336ms/step\n",
      "Epoch 91/150\n",
      "9/9 - 3s - loss: 0.0874 - binary_accuracy: 0.9601 - val_loss: 0.2380 - val_binary_accuracy: 0.9265 - 3s/epoch - 340ms/step\n",
      "Epoch 92/150\n",
      "9/9 - 3s - loss: 0.0380 - binary_accuracy: 1.0000 - val_loss: 0.1546 - val_binary_accuracy: 0.9118 - 3s/epoch - 347ms/step\n",
      "Epoch 93/150\n",
      "9/9 - 3s - loss: 0.1354 - binary_accuracy: 0.9493 - val_loss: 0.1650 - val_binary_accuracy: 0.9412 - 3s/epoch - 355ms/step\n",
      "Epoch 94/150\n",
      "9/9 - 3s - loss: 0.1369 - binary_accuracy: 0.9565 - val_loss: 0.2322 - val_binary_accuracy: 0.9118 - 3s/epoch - 359ms/step\n",
      "Epoch 95/150\n",
      "9/9 - 3s - loss: 0.1213 - binary_accuracy: 0.9529 - val_loss: 0.2640 - val_binary_accuracy: 0.8971 - 3s/epoch - 363ms/step\n",
      "Epoch 96/150\n",
      "9/9 - 3s - loss: 0.0660 - binary_accuracy: 0.9819 - val_loss: 0.2088 - val_binary_accuracy: 0.8971 - 3s/epoch - 342ms/step\n",
      "Epoch 97/150\n",
      "9/9 - 3s - loss: 0.1156 - binary_accuracy: 0.9529 - val_loss: 0.1970 - val_binary_accuracy: 0.9265 - 3s/epoch - 364ms/step\n",
      "Epoch 98/150\n",
      "9/9 - 3s - loss: 0.1087 - binary_accuracy: 0.9384 - val_loss: 0.1605 - val_binary_accuracy: 0.9265 - 3s/epoch - 361ms/step\n",
      "Epoch 99/150\n",
      "9/9 - 3s - loss: 0.1354 - binary_accuracy: 0.9203 - val_loss: 0.2633 - val_binary_accuracy: 0.9118 - 3s/epoch - 329ms/step\n",
      "Epoch 100/150\n",
      "9/9 - 3s - loss: 0.1521 - binary_accuracy: 0.9493 - val_loss: 0.1947 - val_binary_accuracy: 0.9265 - 3s/epoch - 334ms/step\n",
      "Epoch 101/150\n",
      "9/9 - 3s - loss: 0.0986 - binary_accuracy: 0.9529 - val_loss: 0.2293 - val_binary_accuracy: 0.9118 - 3s/epoch - 380ms/step\n",
      "Epoch 102/150\n",
      "9/9 - 3s - loss: 0.0947 - binary_accuracy: 0.9601 - val_loss: 0.1967 - val_binary_accuracy: 0.9412 - 3s/epoch - 339ms/step\n",
      "Epoch 103/150\n",
      "9/9 - 3s - loss: 0.0932 - binary_accuracy: 0.9710 - val_loss: 0.2465 - val_binary_accuracy: 0.9118 - 3s/epoch - 354ms/step\n",
      "Epoch 104/150\n",
      "9/9 - 3s - loss: 0.0911 - binary_accuracy: 0.9783 - val_loss: 0.2042 - val_binary_accuracy: 0.9265 - 3s/epoch - 346ms/step\n",
      "Epoch 105/150\n",
      "9/9 - 3s - loss: 0.0613 - binary_accuracy: 0.9783 - val_loss: 0.2482 - val_binary_accuracy: 0.9118 - 3s/epoch - 346ms/step\n",
      "Epoch 106/150\n",
      "9/9 - 3s - loss: 0.0873 - binary_accuracy: 0.9601 - val_loss: 0.2056 - val_binary_accuracy: 0.9265 - 3s/epoch - 347ms/step\n",
      "Epoch 107/150\n",
      "9/9 - 3s - loss: 0.0658 - binary_accuracy: 0.9783 - val_loss: 0.2141 - val_binary_accuracy: 0.9118 - 3s/epoch - 342ms/step\n",
      "Epoch 108/150\n",
      "9/9 - 3s - loss: 0.0599 - binary_accuracy: 0.9746 - val_loss: 0.2706 - val_binary_accuracy: 0.9118 - 3s/epoch - 346ms/step\n",
      "Epoch 109/150\n",
      "9/9 - 3s - loss: 0.0778 - binary_accuracy: 0.9674 - val_loss: 0.2373 - val_binary_accuracy: 0.9118 - 3s/epoch - 351ms/step\n",
      "Epoch 110/150\n",
      "9/9 - 3s - loss: 0.0700 - binary_accuracy: 0.9819 - val_loss: 0.2312 - val_binary_accuracy: 0.9265 - 3s/epoch - 346ms/step\n",
      "Epoch 111/150\n",
      "9/9 - 3s - loss: 0.0615 - binary_accuracy: 0.9855 - val_loss: 0.2727 - val_binary_accuracy: 0.9118 - 3s/epoch - 347ms/step\n",
      "Epoch 112/150\n",
      "9/9 - 3s - loss: 0.0601 - binary_accuracy: 0.9746 - val_loss: 0.3365 - val_binary_accuracy: 0.8676 - 3s/epoch - 342ms/step\n",
      "Epoch 113/150\n",
      "9/9 - 3s - loss: 0.0422 - binary_accuracy: 0.9928 - val_loss: 0.2744 - val_binary_accuracy: 0.8971 - 3s/epoch - 341ms/step\n",
      "Epoch 114/150\n",
      "9/9 - 3s - loss: 0.0542 - binary_accuracy: 0.9819 - val_loss: 0.2063 - val_binary_accuracy: 0.9118 - 3s/epoch - 340ms/step\n",
      "Epoch 115/150\n",
      "9/9 - 3s - loss: 0.0642 - binary_accuracy: 0.9674 - val_loss: 0.3021 - val_binary_accuracy: 0.8824 - 3s/epoch - 338ms/step\n",
      "Epoch 116/150\n",
      "9/9 - 3s - loss: 0.0621 - binary_accuracy: 0.9746 - val_loss: 0.2089 - val_binary_accuracy: 0.9265 - 3s/epoch - 342ms/step\n",
      "Epoch 117/150\n",
      "9/9 - 3s - loss: 0.0799 - binary_accuracy: 0.9638 - val_loss: 0.2221 - val_binary_accuracy: 0.9118 - 3s/epoch - 340ms/step\n",
      "Epoch 118/150\n",
      "9/9 - 3s - loss: 0.0497 - binary_accuracy: 0.9819 - val_loss: 0.3019 - val_binary_accuracy: 0.8971 - 3s/epoch - 343ms/step\n",
      "Epoch 119/150\n",
      "9/9 - 3s - loss: 0.0397 - binary_accuracy: 0.9891 - val_loss: 0.3352 - val_binary_accuracy: 0.8971 - 3s/epoch - 339ms/step\n",
      "Epoch 120/150\n",
      "9/9 - 3s - loss: 0.0498 - binary_accuracy: 0.9819 - val_loss: 0.2230 - val_binary_accuracy: 0.9118 - 3s/epoch - 339ms/step\n",
      "Epoch 121/150\n",
      "9/9 - 3s - loss: 0.0532 - binary_accuracy: 0.9710 - val_loss: 0.2520 - val_binary_accuracy: 0.8971 - 3s/epoch - 338ms/step\n",
      "Epoch 122/150\n",
      "9/9 - 3s - loss: 0.0529 - binary_accuracy: 0.9891 - val_loss: 0.1921 - val_binary_accuracy: 0.8971 - 3s/epoch - 343ms/step\n",
      "Epoch 123/150\n",
      "9/9 - 3s - loss: 0.0744 - binary_accuracy: 0.9746 - val_loss: 0.2336 - val_binary_accuracy: 0.9118 - 3s/epoch - 356ms/step\n",
      "Epoch 124/150\n",
      "9/9 - 3s - loss: 0.0597 - binary_accuracy: 0.9819 - val_loss: 0.1951 - val_binary_accuracy: 0.9265 - 3s/epoch - 339ms/step\n",
      "Epoch 125/150\n",
      "9/9 - 3s - loss: 0.0249 - binary_accuracy: 1.0000 - val_loss: 0.3027 - val_binary_accuracy: 0.8824 - 3s/epoch - 338ms/step\n",
      "Epoch 126/150\n",
      "9/9 - 3s - loss: 0.0617 - binary_accuracy: 0.9783 - val_loss: 0.2827 - val_binary_accuracy: 0.8971 - 3s/epoch - 346ms/step\n",
      "Epoch 127/150\n",
      "9/9 - 3s - loss: 0.0607 - binary_accuracy: 0.9746 - val_loss: 0.2158 - val_binary_accuracy: 0.9118 - 3s/epoch - 348ms/step\n",
      "Epoch 128/150\n",
      "9/9 - 3s - loss: 0.0453 - binary_accuracy: 0.9819 - val_loss: 0.2548 - val_binary_accuracy: 0.9118 - 3s/epoch - 346ms/step\n",
      "Epoch 129/150\n",
      "9/9 - 3s - loss: 0.0459 - binary_accuracy: 0.9855 - val_loss: 0.2437 - val_binary_accuracy: 0.9265 - 3s/epoch - 341ms/step\n",
      "Epoch 130/150\n",
      "9/9 - 3s - loss: 0.0521 - binary_accuracy: 0.9819 - val_loss: 0.4515 - val_binary_accuracy: 0.8971 - 3s/epoch - 337ms/step\n",
      "Epoch 131/150\n",
      "9/9 - 3s - loss: 0.0563 - binary_accuracy: 0.9783 - val_loss: 0.2378 - val_binary_accuracy: 0.9118 - 3s/epoch - 336ms/step\n",
      "Epoch 132/150\n",
      "9/9 - 3s - loss: 0.0544 - binary_accuracy: 0.9819 - val_loss: 0.3003 - val_binary_accuracy: 0.9118 - 3s/epoch - 340ms/step\n",
      "Epoch 133/150\n",
      "9/9 - 3s - loss: 0.0378 - binary_accuracy: 0.9891 - val_loss: 0.4322 - val_binary_accuracy: 0.8971 - 3s/epoch - 336ms/step\n",
      "Epoch 134/150\n",
      "9/9 - 3s - loss: 0.0678 - binary_accuracy: 0.9783 - val_loss: 0.2038 - val_binary_accuracy: 0.9118 - 3s/epoch - 336ms/step\n",
      "Epoch 135/150\n",
      "9/9 - 3s - loss: 0.0594 - binary_accuracy: 0.9819 - val_loss: 0.2753 - val_binary_accuracy: 0.8971 - 3s/epoch - 336ms/step\n",
      "Epoch 136/150\n",
      "9/9 - 3s - loss: 0.0615 - binary_accuracy: 0.9746 - val_loss: 0.2726 - val_binary_accuracy: 0.8971 - 3s/epoch - 346ms/step\n",
      "Epoch 137/150\n",
      "9/9 - 3s - loss: 0.0434 - binary_accuracy: 0.9855 - val_loss: 0.3033 - val_binary_accuracy: 0.8971 - 3s/epoch - 339ms/step\n",
      "Epoch 138/150\n",
      "9/9 - 3s - loss: 0.0402 - binary_accuracy: 0.9819 - val_loss: 0.3331 - val_binary_accuracy: 0.8824 - 3s/epoch - 339ms/step\n",
      "Epoch 139/150\n",
      "9/9 - 3s - loss: 0.0690 - binary_accuracy: 0.9710 - val_loss: 0.1685 - val_binary_accuracy: 0.9412 - 3s/epoch - 338ms/step\n",
      "Epoch 140/150\n",
      "9/9 - 3s - loss: 0.0807 - binary_accuracy: 0.9674 - val_loss: 0.3742 - val_binary_accuracy: 0.8971 - 3s/epoch - 336ms/step\n",
      "Epoch 141/150\n",
      "9/9 - 3s - loss: 0.0845 - binary_accuracy: 0.9746 - val_loss: 0.1765 - val_binary_accuracy: 0.9118 - 3s/epoch - 336ms/step\n",
      "Epoch 142/150\n",
      "9/9 - 3s - loss: 0.0710 - binary_accuracy: 0.9783 - val_loss: 0.2811 - val_binary_accuracy: 0.9118 - 3s/epoch - 337ms/step\n",
      "Epoch 143/150\n",
      "9/9 - 3s - loss: 0.0713 - binary_accuracy: 0.9710 - val_loss: 0.1851 - val_binary_accuracy: 0.9412 - 3s/epoch - 338ms/step\n",
      "Epoch 144/150\n",
      "9/9 - 3s - loss: 0.0624 - binary_accuracy: 0.9746 - val_loss: 0.3933 - val_binary_accuracy: 0.9118 - 3s/epoch - 338ms/step\n",
      "Epoch 145/150\n",
      "9/9 - 3s - loss: 0.1068 - binary_accuracy: 0.9710 - val_loss: 0.2189 - val_binary_accuracy: 0.9118 - 3s/epoch - 334ms/step\n",
      "Epoch 146/150\n",
      "9/9 - 3s - loss: 0.0739 - binary_accuracy: 0.9601 - val_loss: 0.2737 - val_binary_accuracy: 0.9118 - 3s/epoch - 339ms/step\n",
      "Epoch 147/150\n",
      "9/9 - 3s - loss: 0.0522 - binary_accuracy: 0.9819 - val_loss: 0.2983 - val_binary_accuracy: 0.9118 - 3s/epoch - 343ms/step\n",
      "Epoch 148/150\n",
      "9/9 - 3s - loss: 0.0566 - binary_accuracy: 0.9710 - val_loss: 0.2014 - val_binary_accuracy: 0.9118 - 3s/epoch - 341ms/step\n",
      "Epoch 149/150\n",
      "9/9 - 3s - loss: 0.0495 - binary_accuracy: 0.9819 - val_loss: 0.2543 - val_binary_accuracy: 0.9265 - 3s/epoch - 343ms/step\n",
      "Epoch 150/150\n",
      "9/9 - 3s - loss: 0.0589 - binary_accuracy: 0.9783 - val_loss: 0.2201 - val_binary_accuracy: 0.9265 - 3s/epoch - 342ms/step\n"
     ]
    }
   ],
   "source": [
    "model.compile(optimizer=Adam(learning_rate=0.0006), loss='binary_crossentropy', metrics=['binary_accuracy']) #Last best setting\n",
    "# model.compile(optimizer=Adam(learning_rate=0.006), loss='binary_crossentropy', metrics=['accuracy']) #Last best setting\n",
    "checkpoint_filepath = './tmp/checkpoint'\n",
    "\n",
    "model_checkpoint_callback = tf.keras.callbacks.ModelCheckpoint(\n",
    "    filepath=checkpoint_filepath,\n",
    "    save_weights_only=True,\n",
    "    monitor='val_binary_accuracy',\n",
    "    # monitor='val_accuracy',\n",
    "    mode='max',\n",
    "    save_best_only=True) #save best model\n",
    "\n",
    "#more epochs for better results\n",
    "result = model.fit(x=train, validation_data=validation, epochs=150, verbose=2, callbacks=[model_checkpoint_callback,cb])"
   ]
  },
  {
   "cell_type": "code",
   "execution_count": 59,
   "metadata": {},
   "outputs": [
    {
     "data": {
      "image/png": "[encoded data removed]",
      "text/plain": [
       "<Figure size 640x480 with 1 Axes>"
      ]
     },
     "metadata": {},
     "output_type": "display_data"
    },
    {
     "data": {
      "image/png": "[encoded data removed]",
      "text/plain": [
       "<Figure size 640x480 with 1 Axes>"
      ]
     },
     "metadata": {},
     "output_type": "display_data"
    }
   ],
   "source": [
    "#accuracy\n",
    "plt.plot(result.history['binary_accuracy'])\n",
    "plt.plot(result.history['val_binary_accuracy'])\n",
    "# plt.plot(result.history['accuracy'])\n",
    "# plt.plot(result.history['val_accuracy'])\n",
    "plt.title('model accuracy')\n",
    "plt.ylabel('accuracy')\n",
    "plt.xlabel('epoch')\n",
    "plt.legend(['Train', 'Validation'], loc='lower right')\n",
    "plt.show()\n",
    "\n",
    "#loss\n",
    "plt.plot(result.history['loss'])\n",
    "plt.plot(result.history['val_loss'])\n",
    "plt.title('model loss')\n",
    "plt.ylabel('loss')\n",
    "plt.xlabel('epoch')\n",
    "plt.legend(['Train', 'Validation'], loc='upper right')\n",
    "plt.show()"
   ]
  },
  {
   "cell_type": "code",
   "execution_count": 60,
   "metadata": {},
   "outputs": [],
   "source": [
    "# OPTIONAL: Decide if best weights should be loaded from previous model based on val_acc\n",
    "# The model weights (that are considered the best) are loaded into the model.\n",
    "result = model.load_weights(checkpoint_filepath)"
   ]
  },
  {
   "cell_type": "markdown",
   "metadata": {},
   "source": [
    "<h3>Evaluate Test data</h3>"
   ]
  },
  {
   "cell_type": "code",
   "execution_count": 61,
   "metadata": {},
   "outputs": [
    {
     "name": "stdout",
     "output_type": "stream",
     "text": [
      "3.172943977999991\n",
      "3/3 [==============================] - 4s 2s/step - loss: 0.2794 - binary_accuracy: 0.9302\n",
      "\n",
      "Test Loss: 0.2794479429721832\n",
      "Test Accuracy: 0.930232584476471\n",
      "\n"
     ]
    }
   ],
   "source": [
    "print(sum(cb.logs) / 150)\n",
    "\n",
    "testLoss, testAcc = model.evaluate(test)\n",
    "print('''\n",
    "Test Loss: {}\n",
    "Test Accuracy: {}\n",
    "'''.format(testLoss, testAcc))"
   ]
  },
  {
   "cell_type": "code",
   "execution_count": null,
   "metadata": {},
   "outputs": [],
   "source": [
    "#change the directory back to initial path (Image Classification folder)\n",
    "os.chdir(\"../..\")\n",
    "# os.listdir()\n",
    "\n",
    "#save the model\n",
    "model.save(\"Models/MobileNetV2/MobileNetV2_covid_classification.h5\")\n",
    "\n",
    "os.chdir(destination)"
   ]
  },
  {
   "cell_type": "markdown",
   "metadata": {},
   "source": [
    "<h4>*Optional - Fine tune model with two-step training*</h4>"
   ]
  },
  {
   "cell_type": "code",
   "execution_count": 62,
   "metadata": {},
   "outputs": [
    {
     "name": "stdout",
     "output_type": "stream",
     "text": [
      "Epoch 1/100\n",
      "9/9 - 4s - loss: 0.1230 - binary_accuracy: 0.9493 - val_loss: 0.1771 - val_binary_accuracy: 0.9559 - 4s/epoch - 445ms/step\n",
      "Epoch 2/100\n",
      "9/9 - 3s - loss: 0.0745 - binary_accuracy: 0.9783 - val_loss: 0.1956 - val_binary_accuracy: 0.9559 - 3s/epoch - 355ms/step\n",
      "Epoch 3/100\n",
      "9/9 - 3s - loss: 0.0751 - binary_accuracy: 0.9783 - val_loss: 0.2160 - val_binary_accuracy: 0.9265 - 3s/epoch - 357ms/step\n",
      "Epoch 4/100\n",
      "9/9 - 3s - loss: 0.0559 - binary_accuracy: 0.9928 - val_loss: 0.2076 - val_binary_accuracy: 0.9265 - 3s/epoch - 345ms/step\n",
      "Epoch 5/100\n",
      "9/9 - 3s - loss: 0.0645 - binary_accuracy: 0.9674 - val_loss: 0.1963 - val_binary_accuracy: 0.9559 - 3s/epoch - 348ms/step\n",
      "Epoch 6/100\n",
      "9/9 - 3s - loss: 0.0735 - binary_accuracy: 0.9783 - val_loss: 0.1926 - val_binary_accuracy: 0.9559 - 3s/epoch - 349ms/step\n",
      "Epoch 7/100\n",
      "9/9 - 3s - loss: 0.0736 - binary_accuracy: 0.9783 - val_loss: 0.1664 - val_binary_accuracy: 0.9412 - 3s/epoch - 349ms/step\n",
      "Epoch 8/100\n",
      "9/9 - 3s - loss: 0.0429 - binary_accuracy: 0.9928 - val_loss: 0.1844 - val_binary_accuracy: 0.9559 - 3s/epoch - 351ms/step\n",
      "Epoch 9/100\n",
      "9/9 - 3s - loss: 0.0603 - binary_accuracy: 0.9819 - val_loss: 0.2149 - val_binary_accuracy: 0.9412 - 3s/epoch - 352ms/step\n",
      "Epoch 10/100\n",
      "9/9 - 3s - loss: 0.0733 - binary_accuracy: 0.9783 - val_loss: 0.2485 - val_binary_accuracy: 0.9118 - 3s/epoch - 354ms/step\n",
      "Epoch 11/100\n",
      "9/9 - 3s - loss: 0.0782 - binary_accuracy: 0.9674 - val_loss: 0.1936 - val_binary_accuracy: 0.9412 - 3s/epoch - 356ms/step\n",
      "Epoch 12/100\n",
      "9/9 - 3s - loss: 0.0603 - binary_accuracy: 0.9783 - val_loss: 0.2071 - val_binary_accuracy: 0.9412 - 3s/epoch - 358ms/step\n",
      "Epoch 13/100\n",
      "9/9 - 3s - loss: 0.0596 - binary_accuracy: 0.9746 - val_loss: 0.1933 - val_binary_accuracy: 0.9412 - 3s/epoch - 355ms/step\n",
      "Epoch 14/100\n",
      "9/9 - 3s - loss: 0.0666 - binary_accuracy: 0.9710 - val_loss: 0.2310 - val_binary_accuracy: 0.9118 - 3s/epoch - 353ms/step\n",
      "Epoch 15/100\n",
      "9/9 - 3s - loss: 0.0642 - binary_accuracy: 0.9746 - val_loss: 0.2866 - val_binary_accuracy: 0.8971 - 3s/epoch - 356ms/step\n",
      "Epoch 16/100\n",
      "9/9 - 3s - loss: 0.0603 - binary_accuracy: 0.9783 - val_loss: 0.2547 - val_binary_accuracy: 0.8971 - 3s/epoch - 360ms/step\n",
      "Epoch 17/100\n",
      "9/9 - 3s - loss: 0.0453 - binary_accuracy: 0.9855 - val_loss: 0.2062 - val_binary_accuracy: 0.9559 - 3s/epoch - 360ms/step\n",
      "Epoch 17: early stopping\n"
     ]
    }
   ],
   "source": [
    "es = EarlyStopping(monitor='val_loss', mode='min', verbose=1, patience=10)\n",
    "\n",
    "mobile.trainable = True\n",
    "\n",
    "for layer in mobile.layers[:-2]:\n",
    "    layer.trainable = False\n",
    "    \n",
    "#re-train the model at a very low learning rate\n",
    "model.compile(optimizer=Adam(learning_rate=0.00006), loss='binary_crossentropy', metrics=['binary_accuracy'])\n",
    "\n",
    "result = model.fit(x=train, validation_data=validation, epochs=100, verbose=2, callbacks=[cb, es])\n"
   ]
  },
  {
   "cell_type": "markdown",
   "metadata": {},
   "source": [
    "<h3>Accuracy and Loss graph</h3>"
   ]
  },
  {
   "cell_type": "code",
   "execution_count": 72,
   "metadata": {},
   "outputs": [
    {
     "name": "stdout",
     "output_type": "stream",
     "text": [
      "Unexpected exception formatting exception. Falling back to standard exception\n"
     ]
    },
    {
     "name": "stderr",
     "output_type": "stream",
     "text": [
      "Traceback (most recent call last):\n",
      "  File \"C:\\Users\\ngden\\AppData\\Roaming\\Python\\Python310\\site-packages\\IPython\\core\\interactiveshell.py\", line 3508, in run_code\n",
      "    exec(code_obj, self.user_global_ns, self.user_ns)\n",
      "  File \"C:\\Users\\ngden\\AppData\\Local\\Temp\\ipykernel_16876\\4012029090.py\", line 2, in <module>\n",
      "    plt.plot(result.history['binary_accuracy'])\n",
      "AttributeError: 'numpy.ndarray' object has no attribute 'history'\n",
      "\n",
      "During handling of the above exception, another exception occurred:\n",
      "\n",
      "Traceback (most recent call last):\n",
      "  File \"C:\\Users\\ngden\\AppData\\Roaming\\Python\\Python310\\site-packages\\IPython\\core\\interactiveshell.py\", line 2105, in showtraceback\n",
      "    stb = self.InteractiveTB.structured_traceback(\n",
      "  File \"C:\\Users\\ngden\\AppData\\Roaming\\Python\\Python310\\site-packages\\IPython\\core\\ultratb.py\", line 1428, in structured_traceback\n",
      "    return FormattedTB.structured_traceback(\n",
      "  File \"C:\\Users\\ngden\\AppData\\Roaming\\Python\\Python310\\site-packages\\IPython\\core\\ultratb.py\", line 1319, in structured_traceback\n",
      "    return VerboseTB.structured_traceback(\n",
      "  File \"C:\\Users\\ngden\\AppData\\Roaming\\Python\\Python310\\site-packages\\IPython\\core\\ultratb.py\", line 1172, in structured_traceback\n",
      "    formatted_exception = self.format_exception_as_a_whole(etype, evalue, etb, number_of_lines_of_context,\n",
      "  File \"C:\\Users\\ngden\\AppData\\Roaming\\Python\\Python310\\site-packages\\IPython\\core\\ultratb.py\", line 1087, in format_exception_as_a_whole\n",
      "    frames.append(self.format_record(record))\n",
      "  File \"C:\\Users\\ngden\\AppData\\Roaming\\Python\\Python310\\site-packages\\IPython\\core\\ultratb.py\", line 969, in format_record\n",
      "    frame_info.lines, Colors, self.has_colors, lvals\n",
      "  File \"C:\\Users\\ngden\\AppData\\Roaming\\Python\\Python310\\site-packages\\IPython\\core\\ultratb.py\", line 792, in lines\n",
      "    return self._sd.lines\n",
      "  File \"C:\\Users\\ngden\\AppData\\Roaming\\Python\\Python310\\site-packages\\stack_data\\utils.py\", line 144, in cached_property_wrapper\n",
      "    value = obj.__dict__[self.func.__name__] = self.func(obj)\n",
      "  File \"C:\\Users\\ngden\\AppData\\Roaming\\Python\\Python310\\site-packages\\stack_data\\core.py\", line 734, in lines\n",
      "    pieces = self.included_pieces\n",
      "  File \"C:\\Users\\ngden\\AppData\\Roaming\\Python\\Python310\\site-packages\\stack_data\\utils.py\", line 144, in cached_property_wrapper\n",
      "    value = obj.__dict__[self.func.__name__] = self.func(obj)\n",
      "  File \"C:\\Users\\ngden\\AppData\\Roaming\\Python\\Python310\\site-packages\\stack_data\\core.py\", line 677, in included_pieces\n",
      "    scope_pieces = self.scope_pieces\n",
      "  File \"C:\\Users\\ngden\\AppData\\Roaming\\Python\\Python310\\site-packages\\stack_data\\utils.py\", line 144, in cached_property_wrapper\n",
      "    value = obj.__dict__[self.func.__name__] = self.func(obj)\n",
      "  File \"C:\\Users\\ngden\\AppData\\Roaming\\Python\\Python310\\site-packages\\stack_data\\core.py\", line 614, in scope_pieces\n",
      "    scope_start, scope_end = self.source.line_range(self.scope)\n",
      "  File \"C:\\Users\\ngden\\AppData\\Roaming\\Python\\Python310\\site-packages\\stack_data\\core.py\", line 178, in line_range\n",
      "    return line_range(self.asttext(), node)\n",
      "AttributeError: 'Source' object has no attribute 'asttext'\n"
     ]
    }
   ],
   "source": [
    "#accuracy\n",
    "plt.plot(result.history['binary_accuracy'])\n",
    "plt.plot(result.history['val_binary_accuracy'])\n",
    "plt.title('model accuracy')\n",
    "plt.ylabel('accuracy')\n",
    "plt.xlabel('epoch')\n",
    "plt.legend(['Train', 'Validation'], loc='lower right')\n",
    "plt.show()\n",
    "\n",
    "#loss\n",
    "plt.plot(result.history['loss'])\n",
    "plt.plot(result.history['val_loss'])\n",
    "plt.title('model loss')\n",
    "plt.ylabel('loss')\n",
    "plt.xlabel('epoch')\n",
    "plt.legend(['Train', 'Validation'], loc='upper right')\n",
    "plt.show()"
   ]
  },
  {
   "cell_type": "markdown",
   "metadata": {},
   "source": [
    "<h3>Classification report</h3>"
   ]
  },
  {
   "cell_type": "code",
   "execution_count": 71,
   "metadata": {
    "scrolled": true
   },
   "outputs": [
    {
     "name": "stdout",
     "output_type": "stream",
     "text": [
      "Unexpected exception formatting exception. Falling back to standard exception\n"
     ]
    },
    {
     "name": "stderr",
     "output_type": "stream",
     "text": [
      "Traceback (most recent call last):\n",
      "  File \"C:\\Users\\ngden\\AppData\\Roaming\\Python\\Python310\\site-packages\\IPython\\core\\interactiveshell.py\", line 3508, in run_code\n",
      "    exec(code_obj, self.user_global_ns, self.user_ns)\n",
      "  File \"C:\\Users\\ngden\\AppData\\Local\\Temp\\ipykernel_16876\\4196624631.py\", line 1, in <module>\n",
      "    predictions = model.predict(test, verbose=0)\n",
      "  File \"c:\\Users\\ngden\\anaconda3\\lib\\site-packages\\keras\\utils\\traceback_utils.py\", line 70, in error_handler\n",
      "    raise e.with_traceback(filtered_tb) from None\n",
      "  File \"c:\\Users\\ngden\\anaconda3\\lib\\site-packages\\keras\\utils\\image_utils.py\", line 422, in load_img\n",
      "    with open(path, \"rb\") as f:\n",
      "FileNotFoundError: [Errno 2] No such file or directory: 'test\\\\covid\\\\COVID-1162.png'\n",
      "\n",
      "During handling of the above exception, another exception occurred:\n",
      "\n",
      "Traceback (most recent call last):\n",
      "  File \"C:\\Users\\ngden\\AppData\\Roaming\\Python\\Python310\\site-packages\\IPython\\core\\interactiveshell.py\", line 2105, in showtraceback\n",
      "    stb = self.InteractiveTB.structured_traceback(\n",
      "  File \"C:\\Users\\ngden\\AppData\\Roaming\\Python\\Python310\\site-packages\\IPython\\core\\ultratb.py\", line 1428, in structured_traceback\n",
      "    return FormattedTB.structured_traceback(\n",
      "  File \"C:\\Users\\ngden\\AppData\\Roaming\\Python\\Python310\\site-packages\\IPython\\core\\ultratb.py\", line 1319, in structured_traceback\n",
      "    return VerboseTB.structured_traceback(\n",
      "  File \"C:\\Users\\ngden\\AppData\\Roaming\\Python\\Python310\\site-packages\\IPython\\core\\ultratb.py\", line 1172, in structured_traceback\n",
      "    formatted_exception = self.format_exception_as_a_whole(etype, evalue, etb, number_of_lines_of_context,\n",
      "  File \"C:\\Users\\ngden\\AppData\\Roaming\\Python\\Python310\\site-packages\\IPython\\core\\ultratb.py\", line 1087, in format_exception_as_a_whole\n",
      "    frames.append(self.format_record(record))\n",
      "  File \"C:\\Users\\ngden\\AppData\\Roaming\\Python\\Python310\\site-packages\\IPython\\core\\ultratb.py\", line 969, in format_record\n",
      "    frame_info.lines, Colors, self.has_colors, lvals\n",
      "  File \"C:\\Users\\ngden\\AppData\\Roaming\\Python\\Python310\\site-packages\\IPython\\core\\ultratb.py\", line 792, in lines\n",
      "    return self._sd.lines\n",
      "  File \"C:\\Users\\ngden\\AppData\\Roaming\\Python\\Python310\\site-packages\\stack_data\\utils.py\", line 144, in cached_property_wrapper\n",
      "    value = obj.__dict__[self.func.__name__] = self.func(obj)\n",
      "  File \"C:\\Users\\ngden\\AppData\\Roaming\\Python\\Python310\\site-packages\\stack_data\\core.py\", line 734, in lines\n",
      "    pieces = self.included_pieces\n",
      "  File \"C:\\Users\\ngden\\AppData\\Roaming\\Python\\Python310\\site-packages\\stack_data\\utils.py\", line 144, in cached_property_wrapper\n",
      "    value = obj.__dict__[self.func.__name__] = self.func(obj)\n",
      "  File \"C:\\Users\\ngden\\AppData\\Roaming\\Python\\Python310\\site-packages\\stack_data\\core.py\", line 677, in included_pieces\n",
      "    scope_pieces = self.scope_pieces\n",
      "  File \"C:\\Users\\ngden\\AppData\\Roaming\\Python\\Python310\\site-packages\\stack_data\\utils.py\", line 144, in cached_property_wrapper\n",
      "    value = obj.__dict__[self.func.__name__] = self.func(obj)\n",
      "  File \"C:\\Users\\ngden\\AppData\\Roaming\\Python\\Python310\\site-packages\\stack_data\\core.py\", line 614, in scope_pieces\n",
      "    scope_start, scope_end = self.source.line_range(self.scope)\n",
      "  File \"C:\\Users\\ngden\\AppData\\Roaming\\Python\\Python310\\site-packages\\stack_data\\core.py\", line 178, in line_range\n",
      "    return line_range(self.asttext(), node)\n",
      "AttributeError: 'Source' object has no attribute 'asttext'\n"
     ]
    }
   ],
   "source": [
    "predictions = model.predict(test, verbose=0)\n",
    "# predictions = predictions.reshape(1,-1)[0]\n",
    "# lst = np.argmax(predictions, axis= 1)\n",
    "lst = (predictions > 0.5).astype(int)\n",
    "\n",
    "print(classification_report(test.classes, lst, target_names = test.class_indices))"
   ]
  },
  {
   "cell_type": "markdown",
   "metadata": {},
   "source": [
    "<h3>Confusion matrix</h3>"
   ]
  },
  {
   "cell_type": "code",
   "execution_count": 65,
   "metadata": {},
   "outputs": [
    {
     "name": "stdout",
     "output_type": "stream",
     "text": [
      "[[36  0]\n",
      " [50  0]]\n"
     ]
    },
    {
     "data": {
      "image/png": "[encoded data removed]",
      "text/plain": [
       "<Figure size 700x700 with 2 Axes>"
      ]
     },
     "metadata": {},
     "output_type": "display_data"
    }
   ],
   "source": [
    "result = confusion_matrix(test.classes, lst)\n",
    "print(result)\n",
    "\n",
    "def plot_confusion_matrix(result, classes, cmap=plt.cm.Blues):\n",
    "    plt.subplots(figsize=(7, 7))\n",
    "    plt.imshow(result, interpolation='nearest', cmap=cmap)\n",
    "    plt.title('Confusion matrix')\n",
    "    plt.colorbar()\n",
    "    tick_marks = np.arange(len(classes))\n",
    "    plt.xticks(tick_marks, classes, rotation = 90)\n",
    "    plt.yticks(tick_marks, classes)\n",
    "    plt.ylabel('True label')\n",
    "    plt.xlabel('Predicted label')\n",
    "   \n",
    "\n",
    "    thresh = result.max() / 2.\n",
    "    for i, j in itertools.product(range(result.shape[0]), range(result.shape[1])):\n",
    "        plt.text(j, i, result[i, j],\n",
    "            horizontalalignment=\"center\",\n",
    "            color = \"white\" if result[i, j] > thresh else \"black\")\n",
    "        \n",
    "    #current matplotlib version will cut off top and bottom of the matrix, \n",
    "    #hence the manual workaround - remove if matplotlib version does not cut off\n",
    "    b, t = plt.ylim() # discover bottom and top values\n",
    "    b += 0.5 # Add 0.5 to bottom\n",
    "    t -= 0.5 # Subtract 0.5 from top\n",
    "    plt.ylim(b, t) # update ylim(bottom, top) values\n",
    "    plt.show()\n",
    "    \n",
    "plot_confusion_matrix(result, list(test.class_indices.keys()))"
   ]
  },
  {
   "cell_type": "markdown",
   "metadata": {},
   "source": [
    "<h3>Save the model</h3>"
   ]
  },
  {
   "cell_type": "code",
   "execution_count": 68,
   "metadata": {},
   "outputs": [],
   "source": [
    "#change the directory back to initial path (Image Classification folder)\n",
    "os.chdir(\"../..\")\n",
    "# os.listdir()\n",
    "\n",
    "#save the finetuned model so that it can be passed to edge device\n",
    "model.save(\"MobileNetV2_covid_classification_finetuned.h5\")"
   ]
  }
 ],
 "metadata": {
  "kernelspec": {
   "display_name": "Python 3 (ipykernel)",
   "language": "python",
   "name": "python3"
  },
  "language_info": {
   "codemirror_mode": {
    "name": "ipython",
    "version": 3
   },
   "file_extension": ".py",
   "mimetype": "text/x-python",
   "name": "python",
   "nbconvert_exporter": "python",
   "pygments_lexer": "ipython3",
   "version": "3.10.9"
  }
 },
 "nbformat": 4,
 "nbformat_minor": 4
}
