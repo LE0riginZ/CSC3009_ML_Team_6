{
 "cells": [
  {
   "cell_type": "markdown",
   "metadata": {},
   "source": [
    "<h3>Import packages</h3>"
   ]
  },
  {
   "cell_type": "code",
   "execution_count": 1,
   "metadata": {},
   "outputs": [],
   "source": [
    "from datetime import date\n",
    "from timeit import default_timer as timer\n",
    "import numpy as np\n",
    "import tensorflow as tf\n",
    "from tensorflow import keras\n",
    "from tensorflow.keras import layers\n",
    "from tensorflow.keras.layers import Dense, Activation, Dropout\n",
    "from tensorflow.keras.optimizers import Adam\n",
    "from tensorflow.keras.metrics import categorical_crossentropy\n",
    "from tensorflow.keras.preprocessing.image import ImageDataGenerator, load_img\n",
    "# from keras.applications.resnet50 import preprocess_input\n",
    "from tensorflow.keras.preprocessing import image\n",
    "from tensorflow.keras.models import Model, Sequential\n",
    "from tensorflow.keras.applications import imagenet_utils\n",
    "from keras.callbacks import EarlyStopping\n",
    "from sklearn.metrics import confusion_matrix, classification_report\n",
    "import itertools\n",
    "import os\n",
    "import shutil\n",
    "import random\n",
    "import matplotlib.pyplot as plt\n",
    "%matplotlib inline"
   ]
  },
  {
   "cell_type": "code",
   "execution_count": 2,
   "metadata": {},
   "outputs": [
    {
     "name": "stdout",
     "output_type": "stream",
     "text": [
      "Num GPUs Available:  1\n"
     ]
    }
   ],
   "source": [
    "#Configure TensorFlow to use GPU for training\n",
    "tf.config.list_physical_devices('GPU') \n",
    "print(\"Num GPUs Available: \", len(tf.config.list_physical_devices('GPU')))\n",
    "\n",
    "gpus = tf.config.experimental.list_physical_devices('GPU')\n",
    "#Set GPU memory limit so my GPU doesn't crash\n",
    "if gpus:\n",
    "    try:\n",
    "        for gpu in gpus:\n",
    "              tf.config.experimental.set_memory_growth(gpu, True)\n",
    "    except RuntimeError as e:\n",
    "        print(e)"
   ]
  },
  {
   "cell_type": "markdown",
   "metadata": {},
   "source": [
    "<h3>Create class to record time taken to train the model</h3>"
   ]
  },
  {
   "cell_type": "code",
   "execution_count": 3,
   "metadata": {},
   "outputs": [],
   "source": [
    "#class to record time taken to train per epoch\n",
    "class TimingCallback(keras.callbacks.Callback):\n",
    "    def __init__(self, logs={}):\n",
    "        self.logs=[]\n",
    "    def on_epoch_begin(self, epoch, logs={}):\n",
    "        self.starttime = timer()\n",
    "    def on_epoch_end(self, epoch, logs={}):\n",
    "        self.logs.append(timer()-self.starttime)\n",
    "\n",
    "cb = TimingCallback()"
   ]
  },
  {
   "cell_type": "markdown",
   "metadata": {},
   "source": [
    "<h3>Create train and test folder</h3>"
   ]
  },
  {
   "cell_type": "code",
   "execution_count": 4,
   "metadata": {},
   "outputs": [],
   "source": [
    "#creates a folder each time the set of code is run to sort dataset into train and test\n",
    "day = date.today()\n",
    "formatDate = day.strftime(\"%b-%d-%Y\")\n",
    "\n",
    "#create folder with current date to group predictions ran in a day together, if it does not exists\n",
    "if os.path.isdir('Prediction (' + formatDate + ')') is False:\n",
    "    folder = os.mkdir('Prediction (' + formatDate + ')')\n",
    "folder = 'Prediction (' + formatDate + ')'\n",
    "\n",
    "#looping through to find if destination folder exists\n",
    "i = 1\n",
    "while True:\n",
    "    if os.path.isdir(folder + '/dataset_6 - ' + str(i)) is False:\n",
    "        break\n",
    "    i += 1\n",
    "\n",
    "#destination path for unsorted folder\n",
    "destination = folder + '/dataset_6 - ' + str(i)\n",
    "\n",
    "#source path for unsorted folder\n",
    "source = 'dataset_6/'\n",
    "\n",
    "#duplicate the unsorted folder from source to destination\n",
    "shutil.copytree(source, destination)\n",
    "\n",
    "os.mkdir(destination + '/train')\n",
    "os.mkdir(destination + '/test')"
   ]
  },
  {
   "cell_type": "markdown",
   "metadata": {},
   "source": [
    "<h3>Sort dataset into train and test folder</h3>"
   ]
  },
  {
   "cell_type": "code",
   "execution_count": 5,
   "metadata": {},
   "outputs": [],
   "source": [
    "#function to split images into training (80%) and testing (20%) and return both\n",
    "def split(data):\n",
    "    num = int(len(data) * 0.8)\n",
    "    # num = int(len(data) * 0.9) #90/10 split\n",
    "#     num = int(len(data) * 0.7) #70/30 split\n",
    "    random.shuffle(data)\n",
    "    return data[:num], data[num:]\n",
    "\n",
    "dir = os.chdir(destination)\n",
    "for category in os.listdir(dir):\n",
    "    #skip the iteration if folder is \"train\" or \"test\"\n",
    "    skip = ['train', 'test']\n",
    "    if category in skip:\n",
    "        continue\n",
    "    \n",
    "    shutil.move(f'{category}', 'train')\n",
    "    #create a subfolder with the same name in test\n",
    "    os.mkdir(f'test/{category}')\n",
    "\n",
    "    #get the images in each folder (battery type) for spltting of data into training and testing\n",
    "    img = os.listdir(f'train/{category}')\n",
    "    training, testing = split(img)\n",
    "    \n",
    "    for file in testing:\n",
    "        shutil.move(f'train/{category}/{file}', f'test/{category}')"
   ]
  },
  {
   "cell_type": "markdown",
   "metadata": {},
   "source": [
    "<h3>Transfer Learning</h3>"
   ]
  },
  {
   "cell_type": "code",
   "execution_count": 6,
   "metadata": {},
   "outputs": [],
   "source": [
    "#\"include_top=False argument\" will load a network that excluding the classification layers at the top\n",
    "mobile = tf.keras.applications.VGG16(input_shape = (224, 224, 3), include_top = True, weights = \"imagenet\")"
   ]
  },
  {
   "cell_type": "code",
   "execution_count": 7,
   "metadata": {
    "scrolled": true
   },
   "outputs": [
    {
     "name": "stdout",
     "output_type": "stream",
     "text": [
      "Model: \"vgg16\"\n",
      "_________________________________________________________________\n",
      " Layer (type)                Output Shape              Param #   \n",
      "=================================================================\n",
      " input_1 (InputLayer)        [(None, 224, 224, 3)]     0         \n",
      "                                                                 \n",
      " block1_conv1 (Conv2D)       (None, 224, 224, 64)      1792      \n",
      "                                                                 \n",
      " block1_conv2 (Conv2D)       (None, 224, 224, 64)      36928     \n",
      "                                                                 \n",
      " block1_pool (MaxPooling2D)  (None, 112, 112, 64)      0         \n",
      "                                                                 \n",
      " block2_conv1 (Conv2D)       (None, 112, 112, 128)     73856     \n",
      "                                                                 \n",
      " block2_conv2 (Conv2D)       (None, 112, 112, 128)     147584    \n",
      "                                                                 \n",
      " block2_pool (MaxPooling2D)  (None, 56, 56, 128)       0         \n",
      "                                                                 \n",
      " block3_conv1 (Conv2D)       (None, 56, 56, 256)       295168    \n",
      "                                                                 \n",
      " block3_conv2 (Conv2D)       (None, 56, 56, 256)       590080    \n",
      "                                                                 \n",
      " block3_conv3 (Conv2D)       (None, 56, 56, 256)       590080    \n",
      "                                                                 \n",
      " block3_pool (MaxPooling2D)  (None, 28, 28, 256)       0         \n",
      "                                                                 \n",
      " block4_conv1 (Conv2D)       (None, 28, 28, 512)       1180160   \n",
      "                                                                 \n",
      " block4_conv2 (Conv2D)       (None, 28, 28, 512)       2359808   \n",
      "                                                                 \n",
      " block4_conv3 (Conv2D)       (None, 28, 28, 512)       2359808   \n",
      "                                                                 \n",
      " block4_pool (MaxPooling2D)  (None, 14, 14, 512)       0         \n",
      "                                                                 \n",
      " block5_conv1 (Conv2D)       (None, 14, 14, 512)       2359808   \n",
      "                                                                 \n",
      " block5_conv2 (Conv2D)       (None, 14, 14, 512)       2359808   \n",
      "                                                                 \n",
      " block5_conv3 (Conv2D)       (None, 14, 14, 512)       2359808   \n",
      "                                                                 \n",
      " block5_pool (MaxPooling2D)  (None, 7, 7, 512)         0         \n",
      "                                                                 \n",
      " flatten (Flatten)           (None, 25088)             0         \n",
      "                                                                 \n",
      " fc1 (Dense)                 (None, 4096)              102764544 \n",
      "                                                                 \n",
      " fc2 (Dense)                 (None, 4096)              16781312  \n",
      "                                                                 \n",
      " predictions (Dense)         (None, 1000)              4097000   \n",
      "                                                                 \n",
      "=================================================================\n",
      "Total params: 138,357,544\n",
      "Trainable params: 138,357,544\n",
      "Non-trainable params: 0\n",
      "_________________________________________________________________\n"
     ]
    }
   ],
   "source": [
    "mobile.summary()"
   ]
  },
  {
   "cell_type": "code",
   "execution_count": 8,
   "metadata": {
    "scrolled": true
   },
   "outputs": [
    {
     "name": "stdout",
     "output_type": "stream",
     "text": [
      "Model: \"model\"\n",
      "_________________________________________________________________\n",
      " Layer (type)                Output Shape              Param #   \n",
      "=================================================================\n",
      " input_2 (InputLayer)        [(None, 224, 224, 3)]     0         \n",
      "                                                                 \n",
      " vgg16 (Functional)          (None, 1000)              138357544 \n",
      "                                                                 \n",
      " dense (Dense)               (None, 1)                 1001      \n",
      "                                                                 \n",
      "=================================================================\n",
      "Total params: 138,358,545\n",
      "Trainable params: 1,001\n",
      "Non-trainable params: 138,357,544\n",
      "_________________________________________________________________\n"
     ]
    }
   ],
   "source": [
    "for layer in mobile.layers:\n",
    "    layer.trainable = False\n",
    "\n",
    "inputs = keras.Input(shape=(224, 224, 3))\n",
    "x = mobile(inputs, training=False)\n",
    "output = tf.keras.layers.Dense(1, activation=\"sigmoid\")(x)  \n",
    "\n",
    "model = keras.Model(inputs, output)\n",
    "\n",
    "model.summary()"
   ]
  },
  {
   "cell_type": "markdown",
   "metadata": {},
   "source": [
    "<h3>Process data</h3>"
   ]
  },
  {
   "cell_type": "code",
   "execution_count": 9,
   "metadata": {},
   "outputs": [
    {
     "name": "stdout",
     "output_type": "stream",
     "text": [
      "Found 276 images belonging to 2 classes.\n",
      "Found 68 images belonging to 2 classes.\n",
      "Found 86 images belonging to 2 classes.\n"
     ]
    }
   ],
   "source": [
    "train_path = 'train'\n",
    "test_path = 'test'\n",
    "\n",
    "#for data augmentation on training data\n",
    "datagen = ImageDataGenerator( \n",
    "    preprocessing_function =tf.keras.applications.resnet50.preprocess_input,\n",
    "    validation_split=0.2,\n",
    "    # validation_split=0.1, #changes made for 90/10 split\n",
    "    rotation_range = 10,  # randomly rotate images in the range (degrees, 0 to 180)\n",
    "    zoom_range = 0.2, # Randomly zoom image \n",
    "    width_shift_range = 0.1,  # randomly shift images horizontally (fraction of total width)\n",
    "    height_shift_range = 0.1,  # randomly shift images vertically (fraction of total height)\n",
    "    horizontal_flip = True,  # randomly flip images\n",
    "#     vertical_flip = False,    # randomly flip images\n",
    "    vertical_flip = True, #include vertical flip for better generalisation\n",
    "    )  \n",
    "\n",
    "#takes images from directory path and generates batches of augmented data\n",
    "train = datagen.flow_from_directory(\n",
    "    directory=train_path,\n",
    "    target_size=(224, 224),\n",
    "    class_mode = 'binary',\n",
    "    batch_size=32,\n",
    "    subset='training',\n",
    "        shuffle = False)\n",
    "\n",
    "#for validation data\n",
    "validation_batches = ImageDataGenerator(preprocessing_function=tf.keras.applications.resnet50.preprocess_input, \n",
    "                                        validation_split=0.2)\n",
    "# validation_batches = ImageDataGenerator(preprocessing_function=tf.keras.applications.mobilenet.preprocess_input, \n",
    "#                                         validation_split=0.1) #changes made for 90/10 split\n",
    "\n",
    "\n",
    "validation = validation_batches.flow_from_directory(\n",
    "    directory=train_path,\n",
    "    target_size=(224, 224),\n",
    "    class_mode = 'binary',\n",
    "    batch_size=32,\n",
    "    subset='validation',\n",
    "        shuffle = False)\n",
    "\n",
    "#for test data\n",
    "test = ImageDataGenerator(preprocessing_function=tf.keras.applications.resnet50.preprocess_input)\\\n",
    ".flow_from_directory(directory=test_path, target_size=(224,224), class_mode = 'binary', batch_size=32, shuffle=False)"
   ]
  },
  {
   "cell_type": "markdown",
   "metadata": {},
   "source": [
    "<h3>Compile model</h3>"
   ]
  },
  {
   "cell_type": "code",
   "execution_count": 10,
   "metadata": {
    "scrolled": true
   },
   "outputs": [],
   "source": [
    "model.compile(optimizer=Adam(learning_rate=0.0006), loss='binary_crossentropy', metrics=['binary_accuracy']) #Last best setting\n",
    "# model.compile(optimizer=Adam(learning_rate=0.006), loss='binary_crossentropy', metrics=['accuracy']) #Last best setting"
   ]
  },
  {
   "cell_type": "markdown",
   "metadata": {},
   "source": [
    "<h3>Evaluate Test data</h3>"
   ]
  },
  {
   "cell_type": "code",
   "execution_count": 11,
   "metadata": {},
   "outputs": [
    {
     "name": "stdout",
     "output_type": "stream",
     "text": [
      "3/3 [==============================] - 30s 3s/step - loss: 0.6916 - binary_accuracy: 0.5698\n",
      "\n",
      "Test Loss: 0.6915901303291321\n",
      "Test Accuracy: 0.569767415523529\n",
      "\n"
     ]
    }
   ],
   "source": [
    "testLoss, testAcc = model.evaluate(test)\n",
    "print('''\n",
    "Test Loss: {}\n",
    "Test Accuracy: {}\n",
    "'''.format(testLoss, testAcc))"
   ]
  },
  {
   "cell_type": "markdown",
   "metadata": {},
   "source": [
    "<h3>Classification report</h3>"
   ]
  },
  {
   "cell_type": "code",
   "execution_count": 12,
   "metadata": {
    "scrolled": true
   },
   "outputs": [
    {
     "name": "stdout",
     "output_type": "stream",
     "text": [
      "              precision    recall  f1-score   support\n",
      "\n",
      "       covid       0.49      0.83      0.62        36\n",
      "      normal       0.76      0.38      0.51        50\n",
      "\n",
      "    accuracy                           0.57        86\n",
      "   macro avg       0.63      0.61      0.56        86\n",
      "weighted avg       0.65      0.57      0.55        86\n",
      "\n"
     ]
    }
   ],
   "source": [
    "predictions = model.predict(test, verbose=0)\n",
    "# predictions = predictions.reshape(1,-1)[0]\n",
    "# lst = np.argmax(predictions, axis= 1)\n",
    "lst = (predictions > 0.5).astype(int)\n",
    "\n",
    "print(classification_report(test.classes, lst, target_names = test.class_indices))"
   ]
  },
  {
   "cell_type": "markdown",
   "metadata": {},
   "source": [
    "<h3>Confusion matrix</h3>"
   ]
  },
  {
   "cell_type": "code",
   "execution_count": 13,
   "metadata": {},
   "outputs": [
    {
     "name": "stdout",
     "output_type": "stream",
     "text": [
      "[[30  6]\n",
      " [31 19]]\n"
     ]
    },
    {
     "data": {
      "image/png": "[encoded data removed]",
      "text/plain": [
       "<Figure size 700x700 with 2 Axes>"
      ]
     },
     "metadata": {},
     "output_type": "display_data"
    }
   ],
   "source": [
    "result = confusion_matrix(test.classes, lst)\n",
    "print(result)\n",
    "\n",
    "def plot_confusion_matrix(result, classes, cmap=plt.cm.Blues):\n",
    "    plt.subplots(figsize=(7, 7))\n",
    "    plt.imshow(result, interpolation='nearest', cmap=cmap)\n",
    "    plt.title('Confusion matrix')\n",
    "    plt.colorbar()\n",
    "    tick_marks = np.arange(len(classes))\n",
    "    plt.xticks(tick_marks, classes, rotation = 90)\n",
    "    plt.yticks(tick_marks, classes)\n",
    "    plt.ylabel('True label')\n",
    "    plt.xlabel('Predicted label')\n",
    "   \n",
    "\n",
    "    thresh = result.max() / 2.\n",
    "    for i, j in itertools.product(range(result.shape[0]), range(result.shape[1])):\n",
    "        plt.text(j, i, result[i, j],\n",
    "            horizontalalignment=\"center\",\n",
    "            color = \"white\" if result[i, j] > thresh else \"black\")\n",
    "        \n",
    "    #current matplotlib version will cut off top and bottom of the matrix, \n",
    "    #hence the manual workaround - remove if matplotlib version does not cut off\n",
    "    b, t = plt.ylim() # discover bottom and top values\n",
    "    b += 0.5 # Add 0.5 to bottom\n",
    "    t -= 0.5 # Subtract 0.5 from top\n",
    "    plt.ylim(b, t) # update ylim(bottom, top) values\n",
    "    plt.show()\n",
    "    \n",
    "plot_confusion_matrix(result, list(test.class_indices.keys()))"
   ]
  }
 ],
 "metadata": {
  "kernelspec": {
   "display_name": "Python 3 (ipykernel)",
   "language": "python",
   "name": "python3"
  },
  "language_info": {
   "codemirror_mode": {
    "name": "ipython",
    "version": 3
   },
   "file_extension": ".py",
   "mimetype": "text/x-python",
   "name": "python",
   "nbconvert_exporter": "python",
   "pygments_lexer": "ipython3",
   "version": "3.10.9"
  }
 },
 "nbformat": 4,
 "nbformat_minor": 4
}
